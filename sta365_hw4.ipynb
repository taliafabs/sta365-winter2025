{
  "nbformat": 4,
  "nbformat_minor": 0,
  "metadata": {
    "colab": {
      "provenance": [],
      "collapsed_sections": [
        "_5Qx2i5v6_kq"
      ],
      "authorship_tag": "ABX9TyMm5BXYr1kS5R1lSrmfqxWS",
      "include_colab_link": true
    },
    "kernelspec": {
      "name": "python3",
      "display_name": "Python 3"
    },
    "language_info": {
      "name": "python"
    }
  },
  "cells": [
    {
      "cell_type": "markdown",
      "metadata": {
        "id": "view-in-github",
        "colab_type": "text"
      },
      "source": [
        "<a href=\"https://colab.research.google.com/github/taliafabs/sta365-winter2025/blob/main/sta365_hw4.ipynb\" target=\"_parent\"><img src=\"https://colab.research.google.com/assets/colab-badge.svg\" alt=\"Open In Colab\"/></a>"
      ]
    },
    {
      "cell_type": "markdown",
      "source": [
        "# STA365 Homework 4: Metropolis Hastings"
      ],
      "metadata": {
        "id": "qDi6LxCPbNNA"
      }
    },
    {
      "cell_type": "markdown",
      "source": [
        "# Question 1\n",
        "\n",
        "Convert your **Gibbs sampler** from the previous homework to be a **Metropolis within Gibbs** sampler.\n",
        "- Do not derive any full conditionals and instead just use the joint distribution which is the product of the likelihood with the priors\n",
        "    - Note that in fact you must only be proportional to the joint since irrelevant priors of \"the other parameter\" will cancel in the ratio\n",
        "- Note that $\\tau$ must be positive so proposals $\\tilde \\tau$ must also be positive. The easiest way to achieve this would be to use independent samples (that do not depend on $\\tau^{(t-1)}$ from exponential, half normal, gamma, or inverse gamma distributions (and other distributions defining strictly positive random variables).\n",
        "- When considering using independent proposal distributions one option of some note is to use the prior $p(\\tau)$ as this proposal distribution\n",
        "\n",
        "*Clearly articulate your specification and provide a demonstration showing the Bayesian inference it provides, in contrast to that of your previous Gibbs sampler (of Q2 from the last homework).*\n"
      ],
      "metadata": {
        "id": "Uu3pI00ebT_k"
      }
    },
    {
      "cell_type": "code",
      "source": [
        "from scipy import stats\n",
        "import numpy as np\n",
        "import matplotlib.pyplot as plt\n",
        "\n",
        "def compute_joint_posterior(theta, tau, x, theta0, tau0, alpha, lambda_):\n",
        "  \"\"\"\n",
        "  Computes the joint posterior p(theta, tau | x) ∝ p(x | theta, tau)p(theta)p(tau),\n",
        "  ignoring the normalizing constant.\n",
        "  \"\"\"\n",
        "  n = len(x)\n",
        "  ssq = np.sum((x - theta)**2) / n\n",
        "  # likelihood p(x | theta, tau)\n",
        "  likelihood = np.sqrt(tau) * np.exp(-0.5 * tau * ssq)\n",
        "  # theta prior p(theta)\n",
        "  theta_prior = np.exp(-0.5 * tau0 * (theta-theta0)**2)\n",
        "  # tau prior p(tau)\n",
        "  tau_prior = tau**(alpha-1) * np.exp(-lambda_ * tau)\n",
        "  # joint posterior p(theta, tau | x) ∝ p(x | theta, tau)p(theta)p(tau)\n",
        "  return likelihood * theta_prior * tau_prior\n",
        "\n",
        "\n",
        "def metropolis_within_gibbs_sampler(x, theta_0, tau_0, alpha, lambda_, num_samples,\n",
        "                            burn_in, prop_sd_theta):\n",
        "  \"\"\"\n",
        "  Metropolis-within-Gibbs sampler\n",
        "  \"\"\"\n",
        "  x = np.array(x)\n",
        "  # Storing the samples\n",
        "  theta_samples = np.zeros(num_samples)\n",
        "  tau_samples = np.zeros(num_samples)\n",
        "\n",
        "  # Initialization\n",
        "  theta_curr = stats.norm(loc=theta_0, scale=1/lambda_).rvs()\n",
        "  tau_curr = np.random.normal(tau_0, 1/np.sqrt(tau_0))\n",
        "\n",
        "\n",
        "  for i in range(num_samples):\n",
        "    #---------------------------------------------------------------------------\n",
        "    # Metropolis-Hastings update for theta\n",
        "    #---------------------------------------------------------------------------\n",
        "    # draw the proposed theta\n",
        "    theta_proposed = stats.norm.rvs(loc=theta_curr, scale=prop_sd_theta)\n",
        "    # calculate the probability of acceptance\n",
        "    p_theta_proposed = compute_joint_posterior(theta_proposed, tau_curr, x, theta_0, tau_0, alpha, lambda_)\n",
        "    p_theta_curr = compute_joint_posterior(theta_curr, tau_curr, x, theta_0, tau_0, alpha, lambda_)\n",
        "    # q_theta_proposed = stats.norm(loc=theta_curr, scale=prop_sd_theta).pdf(theta_proposed)\n",
        "    q_theta_proposed = stats.expon.pdf(theta_proposed)\n",
        "    q_theta_curr = stats.expon.pdf(theta_curr)\n",
        "    theta_acceptance_ratio = (p_theta_proposed/p_theta_curr) * (q_theta_proposed/q_theta_curr)\n",
        "    # theta_acceptance_ratio = compute_joint_posterior(theta_proposed, tau_curr, x, theta_0, tau_0, alpha, lambda_) / \\\n",
        "    #                     compute_joint_posterior(theta_curr, tau_curr, x, theta_0, tau_0, alpha, lambda_)*\\\n",
        "    #                     (stats.expon.pdf(theta_proposed)/stats.expon.pdf(theta_curr))\n",
        "    prob_accept_theta = min(1, theta_acceptance_ratio)\n",
        "\n",
        "    # decide whether or not to accept and act accordingly\n",
        "    if np.random.rand() < prob_accept_theta:\n",
        "      theta_curr = theta_proposed\n",
        "\n",
        "    #---------------------------------------------------------------------------\n",
        "    # Metropolis-Hastings update for tau\n",
        "    #---------------------------------------------------------------------------\n",
        "    tau_proposed = np.random.exponential(scale=2)\n",
        "    tau_acceptance_ratio = compute_joint_posterior(theta_curr, tau_proposed, x, theta_0, tau_0, alpha, lambda_) / \\\n",
        "                      compute_joint_posterior(theta_curr, tau_curr, x, theta_0, tau_0, alpha, lambda_) * \\\n",
        "                       (stats.expon.pdf(tau_curr)/stats.expon.pdf(tau_proposed))\n",
        "    prob_accept_tau = min(1, tau_acceptance_ratio)\n",
        "    if np.random.rand() < prob_accept_tau:\n",
        "      tau_curr = tau_proposed\n",
        "\n",
        "    theta_samples[i] = theta_curr\n",
        "    tau_samples[i] = tau_curr\n",
        "\n",
        "  return theta_samples[burn_in:], tau_samples[burn_in:]"
      ],
      "metadata": {
        "id": "YBPJPVrabmc-"
      },
      "execution_count": 9,
      "outputs": []
    },
    {
      "cell_type": "code",
      "source": [
        "np.random.seed(123)\n",
        "\n",
        "# generate data ~ N(50, 0.04)\n",
        "theta_true = 50\n",
        "tau_true = 0.04\n",
        "var = 1 / np.sqrt(tau_true)\n",
        "x = stats.norm.rvs(theta_true, var, size=50)\n",
        "\n",
        "# hyperparameters\n",
        "theta_0 = 0\n",
        "tau_0 = 0.01\n",
        "alpha = 1\n",
        "lambda_ = 1\n",
        "\n",
        "num_samples = 10000\n",
        "burn_in = 200\n",
        "prop_sd_theta = 0.8\n",
        "\n",
        "# Run the gibbs sampler w metropolis hastings\n",
        "theta_samples, tau_samples = metropolis_within_gibbs_sampler(x, theta_0, tau_0, alpha, lambda_, num_samples,\n",
        "                            burn_in, prop_sd_theta)"
      ],
      "metadata": {
        "colab": {
          "base_uri": "https://localhost:8080/"
        },
        "id": "MIIxEK25dSHr",
        "outputId": "e56a0424-3a74-461a-a157-6f76d0c11ec1"
      },
      "execution_count": 18,
      "outputs": [
        {
          "output_type": "stream",
          "name": "stderr",
          "text": [
            "<ipython-input-9-839ca2a236d0>:13: RuntimeWarning: invalid value encountered in sqrt\n",
            "  likelihood = np.sqrt(tau) * np.exp(-0.5 * tau * ssq)\n",
            "<ipython-input-9-839ca2a236d0>:13: RuntimeWarning: overflow encountered in exp\n",
            "  likelihood = np.sqrt(tau) * np.exp(-0.5 * tau * ssq)\n",
            "<ipython-input-9-839ca2a236d0>:49: RuntimeWarning: divide by zero encountered in scalar divide\n",
            "  theta_acceptance_ratio = (p_theta_proposed/p_theta_curr) * (q_theta_proposed/q_theta_curr)\n",
            "<ipython-input-9-839ca2a236d0>:49: RuntimeWarning: invalid value encountered in scalar divide\n",
            "  theta_acceptance_ratio = (p_theta_proposed/p_theta_curr) * (q_theta_proposed/q_theta_curr)\n",
            "<ipython-input-9-839ca2a236d0>:63: RuntimeWarning: invalid value encountered in scalar divide\n",
            "  tau_acceptance_ratio = compute_joint_posterior(theta_curr, tau_proposed, x, theta_0, tau_0, alpha, lambda_) / \\\n",
            "<ipython-input-9-839ca2a236d0>:63: RuntimeWarning: divide by zero encountered in scalar divide\n",
            "  tau_acceptance_ratio = compute_joint_posterior(theta_curr, tau_proposed, x, theta_0, tau_0, alpha, lambda_) / \\\n"
          ]
        },
        {
          "output_type": "stream",
          "name": "stdout",
          "text": [
            "Theta posterior mean: 1.0036676143030987\n",
            "Tau posterior mean: 0.001544494794757811\n"
          ]
        }
      ]
    },
    {
      "cell_type": "code",
      "source": [
        "print(\"Theta posterior mean:\", np.mean(theta_samples))\n",
        "print(\"Tau posterior mean:\", np.mean(tau_samples))"
      ],
      "metadata": {
        "id": "a58lBy8Ae5iB"
      },
      "execution_count": null,
      "outputs": []
    },
    {
      "cell_type": "code",
      "source": [
        "fig, ax = plt.subplots(1, 2, figsize=(10, 5))\n",
        "ax[0].plot(theta_samples)\n",
        "ax[1].plot(tau_samples)\n",
        "plt.show()"
      ],
      "metadata": {
        "colab": {
          "base_uri": "https://localhost:8080/",
          "height": 445
        },
        "id": "vQDU3vh5eOqa",
        "outputId": "f9eb9244-acff-4e18-e0b6-46e899bb868a"
      },
      "execution_count": 19,
      "outputs": [
        {
          "output_type": "display_data",
          "data": {
            "text/plain": [
              "<Figure size 1000x500 with 2 Axes>"
            ],
            "image/png": "[encoded data removed]"
          },
          "metadata": {}
        }
      ]
    },
    {
      "cell_type": "markdown",
      "source": [
        "Bayesian inference:"
      ],
      "metadata": {
        "id": "qmRMQWsLedZj"
      }
    },
    {
      "cell_type": "code",
      "source": [
        "theta_ci = np.quantile(theta_samples, [0.025, 0.975])\n",
        "tau_ci = np.quantile(tau_samples, [0.025, 0.075])\n",
        "print(f\"Theta posterior credible interval: {theta_ci}\")\n",
        "print(f\"Tau posterior credible interval: {tau_ci}\")"
      ],
      "metadata": {
        "colab": {
          "base_uri": "https://localhost:8080/"
        },
        "id": "bn3HbL8oefMP",
        "outputId": "1fadecf6-6215-4c96-8c03-357308956029"
      },
      "execution_count": 17,
      "outputs": [
        {
          "output_type": "stream",
          "name": "stdout",
          "text": [
            "Theta posterior CI: [0.02345678 3.66978505]\n",
            "Tau posterior CI: [0.00072002 0.00072002]\n"
          ]
        }
      ]
    },
    {
      "cell_type": "markdown",
      "source": [
        "### Q2 from homework 3\n",
        "Note: I didn't receive full marks for hw3q2, so I made changes and corrections based on where I lost marks and in comparison to the examples posted on Feb 4.\n"
      ],
      "metadata": {
        "id": "3fOA2E_hsHqD"
      }
    },
    {
      "cell_type": "code",
      "source": [
        "import numpy as np\n",
        "from scipy import stats\n",
        "import matplotlib.pyplot as plt\n",
        "\n",
        "priors = [\n",
        "    {\"alpha\": 2, \"lambda\": 2, \"theta_0\": 0, \"tau_0\": 1 },\n",
        "    {\"alpha\": 10, \"lambda\": 10, \"theta_0\": 0, \"tau_0\": 5 },\n",
        "    {\"alpha\": 2, \"lambda\": 1, \"theta_0\": 5, \"tau_0\": 1}\n",
        "]\n",
        "\n",
        "def gibbs_sampler():\n"
      ],
      "metadata": {
        "id": "5XWpP_KEsVSJ"
      },
      "execution_count": null,
      "outputs": []
    },
    {
      "cell_type": "markdown",
      "source": [
        "#### Q2 rough work"
      ],
      "metadata": {
        "id": "_5Qx2i5v6_kq"
      }
    },
    {
      "cell_type": "code",
      "source": [
        "# from scipy import stats\n",
        "# import numpy as np\n",
        "# import matplotlib.pyplot as plt\n",
        "\n",
        "# def metropolis_within_gibbs(x, theta_0, tau_0, alpha, lambda_, num_samples = 10000, num_chains = 2,\n",
        "#                             burn_in = 200, proposal_theta, proposal_tau):\n",
        "#   \"\"\"\n",
        "#   docstring\n",
        "#   \"\"\"\n",
        "#   theta, tau = np.zeros([num_chains, num_samples]), np.zers([num_chains, num_samples])\n",
        "#   theta[:,0] = 1000 # initialization\n",
        "\n",
        "#   for chain in range(num_chains):\n",
        "#     for sample in range(1, num_samples):\n",
        "#       # Metropolis Hastings for tau\n",
        "#       tau[chain, sample] = stats.gamma(a=1, b=1).rvs\n",
        "#       accept_prob_tau = 0.5 # calculate the probability of acceptance here\n",
        "#       if accept_prob_tau <= np.random.rand(): # accept\n",
        "#         pass\n",
        "#       else:\n",
        "#         tau[chain, sample] = tau[chain, sample-1]\n",
        "\n",
        "#       # Metropolis Hastings for theta\n",
        "#       theta[chain, sample] = stats.normal().rvs # sample theta\n",
        "#       accept_prob_theta = 0.5 # change this to calculate prob of acceptance here\n",
        "#       if accept_prob_theta <= np.random.rand():\n",
        "#         pass\n",
        "#       else:\n",
        "#         theta[chain, sample] = theta[chain, sample-1]"
      ],
      "metadata": {
        "id": "zpGpL-k6rnvn"
      },
      "execution_count": null,
      "outputs": []
    },
    {
      "cell_type": "markdown",
      "source": [
        "## Question 2\n",
        "Adjust your **Metropolis within Gibbs** sampler as follows.\n",
        "\n",
        "- Use the following **dependent** proposal for $\\tau$\n",
        "\n",
        "```Python\n",
        "stats.truncnorm(a=-tau_t_minus_1/s, b=np.Inf,\n",
        "                loc=tau_t_minus_1, scale=s)\n",
        "```\n",
        "\n",
        "- Use a prior for $\\theta$ that is not a normal distribution\n",
        "\n",
        "\n",
        "*Provide a demonstration showing the Bayesian inference provided by this sampler. Then discuss the necessity (or lackthereof)  of analytically determining the full conditional distributions when using Metropolis-Hastings.*"
      ],
      "metadata": {
        "id": "-auEjWF458Wd"
      }
    },
    {
      "cell_type": "code",
      "source": [
        "from scipy import stats\n",
        "import numpy as np\n",
        "import matplotlib.pyplot as plt\n",
        "\n",
        "def compute_joint_posterior(theta, tau, x, theta0, tau0, alpha, lambda_):\n",
        "  \"\"\"\n",
        "  Computes the joint posterior p(theta, tau | x) ∝ p(x | theta, tau)p(theta)p(tau),\n",
        "  ignoring the normalizing constant.\n",
        "  \"\"\"\n",
        "  n = len(x)\n",
        "  ssq = np.sum((x - theta)**2) / n\n",
        "  # likelihood p(x | theta, tau)\n",
        "  likelihood = np.sqrt(tau) * np.exp(-0.5 * tau * ssq)\n",
        "  # theta prior p(theta)\n",
        "  theta_prior = np.exp(-0.5 * tau0 * (theta-theta0)**2)\n",
        "  # tau prior p(tau)\n",
        "  tau_prior = tau**(alpha-1) * np.exp(-lambda_ * tau)\n",
        "  # joint posterior p(theta, tau | x) ∝ p(x | theta, tau)p(theta)p(tau)\n",
        "  return likelihood * theta_prior * tau_prior\n",
        "\n",
        "\n",
        "def metropolis_within_gibbs_dependent_tau(x, theta_0, tau_0, alpha, lambda_, num_samples,\n",
        "                            burn_in, prop_sd_theta, prop_sd_tau, s):\n",
        "  \"\"\"\n",
        "  Metropolis-within-Gibbs sampler adjusted to use the dependent proposal for tau.\n",
        "  \"\"\"\n",
        "  x = np.array(x)\n",
        "  # Storing the samples\n",
        "  theta_samples = np.zeros(num_samples)\n",
        "  tau_samples = np.zeros(num_samples)\n",
        "\n",
        "  # Initialization\n",
        "  theta_curr = stats.norm(loc=theta_0, scale=1/lambda_).rvs()\n",
        "  tau_curr = np.random.normal(tau_0, 1/np.sqrt(tau_0))\n",
        "\n",
        "\n",
        "  for i in range(num_samples):\n",
        "    #---------------------------------------------------------------------------\n",
        "    # Metropolis update for theta\n",
        "    #---------------------------------------------------------------------------\n",
        "    # update: use the dependent proposal for tau\n",
        "    theta_proposed = stats.norm.rvs(loc=theta_curr, scale=prop_sd_theta)\n",
        "\n",
        "    # determine the acceptance ratio\n",
        "    p_theta_proposed = compute_joint_posterior(theta_proposed, tau_curr, x, theta_0, tau_0, alpha, lambda_)\n",
        "    p_theta_curr = compute_joint_posterior(theta_curr, tau_curr, x, theta_0, tau_0, alpha, lambda_)\n",
        "    q_theta_proposed = stats.expon.pdf(theta_proposed)\n",
        "    q_theta_curr = stats.expon.pdf(theta_curr)\n",
        "    theta_acceptance_ratio = (p_theta_proposed/p_theta_curr) * (q_theta_proposed/q_theta_curr)\n",
        "\n",
        "    # compute probability of accepting proposed theta\n",
        "    prob_accept_theta = min(1, theta_acceptance_ratio)\n",
        "\n",
        "    if np.random.rand() < prob_accept_theta: # decide whether to accept or reject proposal\n",
        "      theta_curr = theta_proposed # if accepted update the value of theta!\n",
        "\n",
        "    #---------------------------------------------------------------------------\n",
        "    # Metropolis update for tau\n",
        "    #---------------------------------------------------------------------------\n",
        "    tau_proposed = stats.truncnorm.rvs(a=-tau_curr/s, b=np.Inf, loc=tau_curr, scale=s)\n",
        "\n",
        "    pos_tau_proposed = compute_joint_posterior(theta_curr, tau_proposed, x, theta_0, tau_0, alpha, lambda_)\n",
        "    pos_tau_curr = compute_joint_posterior(theta_curr, tau_curr, x, theta_0, tau_0, alpha, lambda_)\n",
        "    q_tau_proposed = stats.truncnorm.pdf(tau_proposed, a=-tau_curr/s, b=np.Inf, loc=tau_curr, scale=s)\n",
        "    q_tau_curr = stats.truncnorm.pdf(tau_curr, a=-tau_curr/s, b=np.inf, loc=tau_curr, scale=s)\n",
        "\n",
        "    tau_acceptance_ratio = (pos_tau_proposed/pos_tau_curr) * (q_tau_curr/q_tau_proposed)\n",
        "    prob_accept_tau = min(1, tau_acceptance_ratio)\n",
        "\n",
        "    if np.random.rand() < prob_accept_tau: # decide whether to accept or reject proposal\n",
        "      tau_curr = tau_proposed # update tau if accepted\n",
        "\n",
        "    # add value of theta and tau to list of all theta and tau values\n",
        "    theta_samples[i] = theta_curr\n",
        "    tau_samples[i] = tau_curr\n",
        "\n",
        "  return theta_samples[burn_in:], tau_samples[burn_in:]"
      ],
      "metadata": {
        "id": "eDIwFK9kvcQn"
      },
      "execution_count": 6,
      "outputs": []
    },
    {
      "cell_type": "markdown",
      "source": [
        "## Question 3\n",
        "\n",
        "For **Metropolis Hastings** targetting (**stationary distribution**) $p$ based on proposal distribuiton $q$ given below\n",
        "\n",
        "$\\begin{align}\n",
        "q(\\tilde x^{(t)} | x^{(t-1)}) &={} \\left(\\frac{1}{2}\\right)^{1-{\\tilde x^{(t)}}}\\left(\\frac{1}{2}\\right)^{\\tilde x^{(t)}} \\quad \\color{gray}{\\textrm{ ... does } \\quad \\frac{q(x^{(t-1)}|\\tilde x^{(t)})}{q(\\tilde x^{(t)}|x^{(t-1)})} \\quad  \\textrm{ cancel?}}\\\\\n",
        "\\textrm{and} \\quad p(x^{(t)}) &={} \\left(\\frac{1}{3}\\right)^{1-{x^{(t)}}}\\left(\\frac{2}{3}\\right)^{x^{(t)}}\\\\\n",
        "\\end{align}$\n",
        "\n",
        "<u>show that</u> the **transition kernel** $K$ of transition probabilities is defined the **Metropolis Hastings** algorithm is\n",
        "\n",
        "$K = \\left[\\begin{array}{cc}\\Pr(x^{(t)}=0 \\rightarrow x^{(t+1)}=0) & \\Pr(x^{(t)}=1 \\rightarrow x^{(t+1)}=0)\\\\\\Pr(x^{(t)}=0 \\rightarrow x^{(t+1)}=1)& \\Pr(x^{(t)}=1 \\rightarrow x^{(t+1)}=1)\\end{array}\\right] = \\left[\\begin{array}{cl} 0.5 & 0.25 \\\\ 0.5 & 0.75 \\end{array}\\right]$"
      ],
      "metadata": {
        "id": "24AbfG886ZbE"
      }
    }
  ]
}