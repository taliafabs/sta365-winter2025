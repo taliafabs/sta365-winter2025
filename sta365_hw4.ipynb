{
  "nbformat": 4,
  "nbformat_minor": 0,
  "metadata": {
    "colab": {
      "provenance": [],
      "collapsed_sections": [
        "_5Qx2i5v6_kq"
      ],
      "authorship_tag": "ABX9TyMDpKDzo9P6IwniV92Y8/ho",
      "include_colab_link": true
    },
    "kernelspec": {
      "name": "python3",
      "display_name": "Python 3"
    },
    "language_info": {
      "name": "python"
    }
  },
  "cells": [
    {
      "cell_type": "markdown",
      "metadata": {
        "id": "view-in-github",
        "colab_type": "text"
      },
      "source": [
        "<a href=\"https://colab.research.google.com/github/taliafabs/sta365-winter2025/blob/main/sta365_hw4.ipynb\" target=\"_parent\"><img src=\"https://colab.research.google.com/assets/colab-badge.svg\" alt=\"Open In Colab\"/></a>"
      ]
    },
    {
      "cell_type": "markdown",
      "source": [
        "# STA365 Homework 4: Metropolis Hastings"
      ],
      "metadata": {
        "id": "qDi6LxCPbNNA"
      }
    },
    {
      "cell_type": "markdown",
      "source": [
        "# Question 1\n",
        "\n",
        "Convert your **Gibbs sampler** from the previous homework to be a **Metropolis within Gibbs** sampler.\n",
        "- Do not derive any full conditionals and instead just use the joint distribution which is the product of the likelihood with the priors\n",
        "    - Note that in fact you must only be proportional to the joint since irrelevant priors of \"the other parameter\" will cancel in the ratio\n",
        "- Note that $\\tau$ must be positive so proposals $\\tilde \\tau$ must also be positive. The easiest way to achieve this would be to use independent samples (that do not depend on $\\tau^{(t-1)}$ from exponential, half normal, gamma, or inverse gamma distributions (and other distributions defining strictly positive random variables).\n",
        "- When considering using independent proposal distributions one option of some note is to use the prior $p(\\tau)$ as this proposal distribution\n",
        "\n",
        "*Clearly articulate your specification and provide a demonstration showing the Bayesian inference it provides, in contrast to that of your previous Gibbs sampler (of Q2 from the last homework).*\n"
      ],
      "metadata": {
        "id": "Uu3pI00ebT_k"
      }
    },
    {
      "cell_type": "code",
      "source": [
        "from scipy import stats\n",
        "import numpy as np\n",
        "import matplotlib.pyplot as plt\n",
        "\n",
        "def joint_posterior(theta, tau, x, theta0, tau0, alpha, lambda_):\n",
        "  \"\"\"\n",
        "  Computes the joint posterior p(theta, tau | x) ∝ p(x | theta, tau)p(theta)p(tau),\n",
        "  ignoring the normalizing constant.\n",
        "  \"\"\"\n",
        "  n = len(x)\n",
        "  ssq = np.sum((x - theta)**2) / n\n",
        "  # likelihood p(x | theta, tau)\n",
        "  # likelihood = np.sqrt(tau) * np.exp(-0.5 * tau * ssq)\n",
        "  likelihood = (tau**(n/2)) * np.exp(-0.5 * tau * ssq)\n",
        "  # theta prior p(theta)\n",
        "  theta_prior = np.exp(-0.5 * tau0 * (theta-theta0)**2)\n",
        "  # tau prior p(tau)\n",
        "  tau_prior = tau**(alpha-1) * np.exp(-lambda_ * tau)\n",
        "  # joint posterior p(theta, tau | x) ∝ p(x | theta, tau)p(theta)p(tau)\n",
        "  return likelihood * theta_prior * tau_prior\n",
        "\n",
        "\n",
        "def metropolis_within_gibbs_sampler(x, theta_0, tau_0, alpha, lambda_, num_samples,\n",
        "                            burn_in, prop_sd_theta):\n",
        "  \"\"\"\n",
        "  Metropolis-within-Gibbs sampler\n",
        "  \"\"\"\n",
        "  x = np.array(x)\n",
        "  # Storing the samples\n",
        "  theta_samples = np.zeros(num_samples)\n",
        "  tau_samples = np.zeros(num_samples)\n",
        "\n",
        "  # Initialization\n",
        "  theta_curr = stats.norm(loc=theta_0, scale=1/lambda_).rvs()\n",
        "  tau_curr = np.random.normal(tau_0, 1/np.sqrt(tau_0))\n",
        "\n",
        "\n",
        "  for i in range(num_samples):\n",
        "    #---------------------------------------------------------------------------\n",
        "    # Metropolis-Hastings update for theta\n",
        "    #---------------------------------------------------------------------------\n",
        "    # draw the proposed theta\n",
        "    theta_proposed = stats.norm.rvs(loc=theta_curr, scale=prop_sd_theta)\n",
        "    # calculate the probability of acceptance\n",
        "    p_theta_proposed = joint_posterior(theta_proposed, tau_curr, x, theta_0, tau_0, alpha, lambda_)\n",
        "    p_theta_curr = joint_posterior(theta_curr, tau_curr, x, theta_0, tau_0, alpha, lambda_)\n",
        "    # q_theta_proposed = stats.norm(loc=theta_curr, scale=prop_sd_theta).pdf(theta_proposed)\n",
        "    q_theta_proposed = stats.norm.pdf(theta_proposed, loc=theta_curr, scale=prop_sd_theta)\n",
        "    q_theta_curr = stats.norm.pdf(theta_curr, loc=theta_curr, scale=prop_sd_theta)\n",
        "    theta_acceptance_ratio = (p_theta_proposed/p_theta_curr) * (q_theta_proposed/q_theta_curr)\n",
        "    # theta_acceptance_ratio = compute_joint_posterior(theta_proposed, tau_curr, x, theta_0, tau_0, alpha, lambda_) / \\\n",
        "    #                     compute_joint_posterior(theta_curr, tau_curr, x, theta_0, tau_0, alpha, lambda_)*\\\n",
        "    #                     (stats.expon.pdf(theta_proposed)/stats.expon.pdf(theta_curr))\n",
        "    prob_accept_theta = min(1, theta_acceptance_ratio)\n",
        "\n",
        "    # decide whether or not to accept and act accordingly\n",
        "    if np.random.rand() < prob_accept_theta:\n",
        "      theta_curr = theta_proposed\n",
        "\n",
        "    #---------------------------------------------------------------------------\n",
        "    # Metropolis-Hastings update for tau\n",
        "    #---------------------------------------------------------------------------\n",
        "    tau_proposed = np.random.exponential(scale=1/lambda_)\n",
        "    tau_acceptance_ratio = joint_posterior(theta_curr, tau_proposed, x, theta_0, tau_0, alpha, lambda_) / \\\n",
        "                      joint_posterior(theta_curr, tau_curr, x, theta_0, tau_0, alpha, lambda_) * \\\n",
        "                       (stats.expon.pdf(tau_curr)/stats.expon.pdf(tau_proposed))\n",
        "    prob_accept_tau = min(1, tau_acceptance_ratio)\n",
        "    if np.random.rand() < prob_accept_tau:\n",
        "      tau_curr = tau_proposed\n",
        "\n",
        "    theta_samples[i] = theta_curr\n",
        "    tau_samples[i] = tau_curr\n",
        "\n",
        "  return theta_samples[burn_in:], tau_samples[burn_in:]"
      ],
      "metadata": {
        "id": "YBPJPVrabmc-"
      },
      "execution_count": 56,
      "outputs": []
    },
    {
      "cell_type": "code",
      "source": [
        "np.random.seed(123)\n",
        "\n",
        "# generate data ~ N(50, 0.04)\n",
        "theta_true = 50\n",
        "tau_true = 0.04\n",
        "var = 1 / np.sqrt(tau_true)\n",
        "x = stats.norm.rvs(theta_true, var, size=50)\n",
        "\n",
        "# hyperparameters\n",
        "theta_0 = 0\n",
        "tau_0 = 0.01\n",
        "alpha = 1\n",
        "lambda_ = 1\n",
        "\n",
        "# Run the gibbs sampler w metropolis hastings\n",
        "theta_samples, tau_samples = metropolis_within_gibbs_sampler(x, theta_0, tau_0, alpha, lambda_, num_samples=10000,\n",
        "                            burn_in=300, prop_sd_theta=0.8)"
      ],
      "metadata": {
        "colab": {
          "base_uri": "https://localhost:8080/"
        },
        "id": "MIIxEK25dSHr",
        "outputId": "f5a97535-1f5f-449a-bf33-9fd000c08757"
      },
      "execution_count": 57,
      "outputs": [
        {
          "output_type": "stream",
          "name": "stderr",
          "text": [
            "<ipython-input-56-85d73089f586>:14: RuntimeWarning: overflow encountered in exp\n",
            "  likelihood = (tau**(n/2)) * np.exp(-0.5 * tau * ssq)\n",
            "<ipython-input-56-85d73089f586>:50: RuntimeWarning: invalid value encountered in scalar divide\n",
            "  theta_acceptance_ratio = (p_theta_proposed/p_theta_curr) * (q_theta_proposed/q_theta_curr)\n",
            "<ipython-input-56-85d73089f586>:14: RuntimeWarning: overflow encountered in scalar multiply\n",
            "  likelihood = (tau**(n/2)) * np.exp(-0.5 * tau * ssq)\n"
          ]
        }
      ]
    },
    {
      "cell_type": "code",
      "source": [
        "print(\"Theta posterior mean:\", np.mean(theta_samples))\n",
        "print(\"Tau posterior mean:\", np.mean(tau_samples))"
      ],
      "metadata": {
        "colab": {
          "base_uri": "https://localhost:8080/"
        },
        "id": "a58lBy8Ae5iB",
        "outputId": "5d4a618f-1072-4d84-8c3a-773db3b2672b"
      },
      "execution_count": 58,
      "outputs": [
        {
          "output_type": "stream",
          "name": "stdout",
          "text": [
            "Theta posterior mean: -15.863063583705648\n",
            "Tau posterior mean: -10.377882102049536\n"
          ]
        }
      ]
    },
    {
      "cell_type": "code",
      "source": [
        "fig, ax = plt.subplots(1, 2, figsize=(10, 5))\n",
        "ax[0].plot(theta_samples)\n",
        "ax[1].plot(tau_samples)\n",
        "plt.show()"
      ],
      "metadata": {
        "colab": {
          "base_uri": "https://localhost:8080/",
          "height": 375
        },
        "id": "vQDU3vh5eOqa",
        "outputId": "e8b89b4b-9d75-449d-c531-6cf3e68c1b7c"
      },
      "execution_count": 59,
      "outputs": [
        {
          "output_type": "display_data",
          "data": {
            "text/plain": [
              "<Figure size 1000x500 with 2 Axes>"
            ],
            "image/png": "[encoded data removed]"
          },
          "metadata": {}
        }
      ]
    },
    {
      "cell_type": "markdown",
      "source": [
        "Bayesian inference:"
      ],
      "metadata": {
        "id": "qmRMQWsLedZj"
      }
    },
    {
      "cell_type": "code",
      "source": [
        "theta_ci = np.quantile(theta_samples, [0.025, 0.975])\n",
        "tau_ci = np.quantile(tau_samples, [0.025, 0.075])\n",
        "print(f\"Theta posterior credible interval: {theta_ci}\")\n",
        "print(f\"Tau posterior credible interval: {tau_ci}\")"
      ],
      "metadata": {
        "colab": {
          "base_uri": "https://localhost:8080/"
        },
        "id": "bn3HbL8oefMP",
        "outputId": "94298c0e-a852-4c6f-f89b-823dec050f2a"
      },
      "execution_count": 61,
      "outputs": [
        {
          "output_type": "stream",
          "name": "stdout",
          "text": [
            "Theta posterior credible interval: [-73.37004784  38.4656971 ]\n",
            "Tau posterior credible interval: [-10.3778821 -10.3778821]\n"
          ]
        }
      ]
    },
    {
      "cell_type": "markdown",
      "source": [
        "### Q2 from homework 3\n",
        "Note: I didn't receive full marks for hw3q2, so I made changes and corrections based on where I lost marks and in comparison to the examples posted on Feb 4.\n"
      ],
      "metadata": {
        "id": "3fOA2E_hsHqD"
      }
    },
    {
      "cell_type": "code",
      "source": [
        "import numpy as np\n",
        "from scipy import stats\n",
        "import matplotlib.pyplot as plt\n",
        "\n",
        "priors = [\n",
        "    {\"alpha\": 2, \"lambda\": 2, \"theta_0\": 0, \"tau_0\": 1 },\n",
        "    {\"alpha\": 10, \"lambda\": 10, \"theta_0\": 0, \"tau_0\": 5 },\n",
        "    {\"alpha\": 2, \"lambda\": 1, \"theta_0\": 5, \"tau_0\": 1}\n",
        "]\n",
        "\n",
        "def gibbs_sampler():\n"
      ],
      "metadata": {
        "id": "5XWpP_KEsVSJ"
      },
      "execution_count": null,
      "outputs": []
    },
    {
      "cell_type": "markdown",
      "source": [
        "## Question 2\n",
        "Adjust your **Metropolis within Gibbs** sampler as follows.\n",
        "\n",
        "- Use the following **dependent** proposal for $\\tau$\n",
        "\n",
        "```Python\n",
        "stats.truncnorm(a=-tau_t_minus_1/s, b=np.Inf,\n",
        "                loc=tau_t_minus_1, scale=s)\n",
        "```\n",
        "\n",
        "- Use a prior for $\\theta$ that is not a normal distribution\n",
        "\n",
        "\n",
        "*Provide a demonstration showing the Bayesian inference provided by this sampler. Then discuss the necessity (or lackthereof)  of analytically determining the full conditional distributions when using Metropolis-Hastings.*"
      ],
      "metadata": {
        "id": "-auEjWF458Wd"
      }
    },
    {
      "cell_type": "code",
      "source": [
        "def joint_posterior(theta, tau, x, theta_0, laplace, tau_0, alpha, lambda_):\n",
        "  \"\"\"\n",
        "  Computes the joint posterior p(theta, tau | x) ∝ p(x | theta, tau)p(theta)p(tau),\n",
        "  ignoring the normalizing constant.\n",
        "  \"\"\"\n",
        "  n = len(x)\n",
        "  ssq = np.sum((x - theta)**2) / n\n",
        "  # likelihood p(x | theta, tau)\n",
        "  likelihood = np.sqrt(tau) * np.exp(-0.5 * tau * ssq)\n",
        "  # theta prior p(theta) with laplace parameter\n",
        "  # theta_prior = np.exp(-0.5 * tau_0 * (theta - theta_0)**2)\n",
        "  theta_prior = stats.gamma(alpha, scale=1/laplace).pdf(theta)\n",
        "  # tau prior p(tau)\n",
        "  tau_prior = tau**(alpha-1) * np.exp( -lambda_ * tau)\n",
        "  # joint posterior p(theta, tau | x) ∝ p(x | theta, tau)p(theta)p(tau)\n",
        "  return likelihood * theta_prior * tau_prior\n",
        "\n",
        "\n",
        "def metropolis_within_gibbs_dependent_tau(x, theta_0, laplace, tau_0, alpha, lambda_, num_samples,\n",
        "                            burn_in, prop_sd_theta, s):\n",
        "  \"\"\"\n",
        "  Metropolis-within-Gibbs sampler adjusted to use the dependent proposal for tau.\n",
        "  s is the new laplace parameter for the dependent proposal for tau.\n",
        "  \"\"\"\n",
        "  x = np.array(x)\n",
        "  # Storing the samples\n",
        "  theta_samples = np.zeros(num_samples)\n",
        "  tau_samples = np.zeros(num_samples)\n",
        "\n",
        "  # Initialization\n",
        "  theta_curr = stats.norm(loc=theta_0, scale=1/lambda_).rvs()\n",
        "  tau_curr = stats.laplace(loc=tau_0, scale=laplace).rvs()\n",
        "\n",
        "\n",
        "  for i in range(num_samples):\n",
        "    #---------------------------------------------------------------------------\n",
        "    # Metropolis update for theta\n",
        "    #---------------------------------------------------------------------------\n",
        "    # update: use the dependent proposal for tau\n",
        "    theta_proposed = stats.norm.rvs(loc=theta_curr, scale=prop_sd_theta)\n",
        "\n",
        "    # determine the acceptance ratio\n",
        "    p_theta_proposed = joint_posterior(theta_proposed, tau_curr, x, theta_0, laplace, tau_0, alpha, lambda_)\n",
        "    p_theta_curr = joint_posterior(theta_curr, tau_curr, x, theta_0, laplace, tau_0, alpha, lambda_)\n",
        "    q_theta_proposed = stats.expon.pdf(theta_proposed)\n",
        "    q_theta_curr = stats.expon.pdf(theta_curr)\n",
        "    theta_acceptance_ratio = (p_theta_proposed/p_theta_curr) * (q_theta_proposed/q_theta_curr)\n",
        "\n",
        "    # compute probability of accepting proposed theta\n",
        "    prob_accept_theta = min(1, theta_acceptance_ratio)\n",
        "\n",
        "    if np.random.rand() < prob_accept_theta: # decide whether to accept or reject proposal\n",
        "      theta_curr = theta_proposed # if accepted update the value of theta!\n",
        "\n",
        "    #---------------------------------------------------------------------------\n",
        "    # Metropolis update for tau\n",
        "    #---------------------------------------------------------------------------\n",
        "    tau_proposed = stats.truncnorm.rvs(a=-tau_curr/s, b=np.Inf, loc=tau_curr, scale=s)\n",
        "\n",
        "    pos_tau_proposed = joint_posterior(theta_curr, tau_proposed, x, theta_0, laplace, tau_0, alpha, lambda_)\n",
        "    pos_tau_curr = joint_posterior(theta_curr, tau_curr, x, theta_0, laplace, tau_0, alpha, lambda_)\n",
        "    q_tau_proposed = stats.truncnorm.pdf(tau_proposed, a=-tau_curr/s, b=np.Inf, loc=tau_curr, scale=s)\n",
        "    q_tau_curr = stats.truncnorm.pdf(tau_curr, a=-tau_curr/s, b=np.inf, loc=tau_curr, scale=s)\n",
        "\n",
        "    tau_acceptance_ratio = (pos_tau_proposed/pos_tau_curr) * (q_tau_curr/q_tau_proposed)\n",
        "    prob_accept_tau = min(1, tau_acceptance_ratio)\n",
        "\n",
        "    if np.random.rand() < prob_accept_tau: # decide whether to accept or reject proposal\n",
        "      tau_curr = tau_proposed # update tau if accepted\n",
        "\n",
        "    # add value of theta and tau to list of all theta and tau values\n",
        "    theta_samples[i] = theta_curr\n",
        "    tau_samples[i] = tau_curr\n",
        "\n",
        "  return theta_samples[burn_in:], tau_samples[burn_in:]"
      ],
      "metadata": {
        "id": "mWuWl0G7k_3h"
      },
      "execution_count": 62,
      "outputs": []
    },
    {
      "cell_type": "code",
      "source": [
        "np.random.seed(365)\n",
        "theta_true = 50\n",
        "tau_true = 0.04\n",
        "var = 1 / np.sqrt(tau_true)\n",
        "x = stats.norm.rvs(loc=theta_true, scale=var, size=50)\n",
        "theta_0, alpha, lambda_, laplace = 0, 1, 1, 3\n",
        "\n",
        "theta_samples, tau_samples = metropolis_within_gibbs_dependent_tau(x, theta_0, laplace, tau_0, alpha, lambda_, num_samples=10000,\n",
        "                            burn_in=500, prop_sd_theta=1, s=0.2)"
      ],
      "metadata": {
        "colab": {
          "base_uri": "https://localhost:8080/"
        },
        "id": "uRhWKIHAgMa_",
        "outputId": "b54a2319-2bbf-4e5d-bd33-936681b8226b"
      },
      "execution_count": 53,
      "outputs": [
        {
          "output_type": "stream",
          "name": "stderr",
          "text": [
            "<ipython-input-49-45f92cc59dbd>:47: RuntimeWarning: invalid value encountered in scalar divide\n",
            "  theta_acceptance_ratio = (p_theta_proposed/p_theta_curr) * (q_theta_proposed/q_theta_curr)\n",
            "<ipython-input-49-45f92cc59dbd>:66: RuntimeWarning: invalid value encountered in scalar divide\n",
            "  tau_acceptance_ratio = (pos_tau_proposed/pos_tau_curr) * (q_tau_curr/q_tau_proposed)\n",
            "<ipython-input-49-45f92cc59dbd>:47: RuntimeWarning: divide by zero encountered in scalar divide\n",
            "  theta_acceptance_ratio = (p_theta_proposed/p_theta_curr) * (q_theta_proposed/q_theta_curr)\n"
          ]
        }
      ]
    },
    {
      "cell_type": "code",
      "source": [
        "fig, ax = plt.subplots(1, 2, figsize=(10, 5))\n",
        "ax[0].plot(theta_samples)\n",
        "ax[1].plot(tau_samples)\n",
        "plt.show()"
      ],
      "metadata": {
        "colab": {
          "base_uri": "https://localhost:8080/",
          "height": 387
        },
        "id": "qaid92AYlX-Y",
        "outputId": "87bcd71e-cbad-4c5a-f808-a02d72adb6af"
      },
      "execution_count": 54,
      "outputs": [
        {
          "output_type": "display_data",
          "data": {
            "text/plain": [
              "<Figure size 1000x500 with 2 Axes>"
            ],
            "image/png": "[encoded data removed]"
          },
          "metadata": {}
        }
      ]
    },
    {
      "cell_type": "code",
      "source": [
        "theta_ci = np.quantile(theta_samples, [0.025, 0.975])\n",
        "tau_ci = np.quantile(tau_samples, [0.025, 0.075])\n",
        "print(f\"Theta posterior credible interval: {theta_ci}\")\n",
        "print(f\"Tau posterior credible interval: {tau_ci}\")"
      ],
      "metadata": {
        "colab": {
          "base_uri": "https://localhost:8080/"
        },
        "id": "s0RHsv9Ele9I",
        "outputId": "70266bd3-09c3-4df4-90a6-d9ff2f3ecc0d"
      },
      "execution_count": 55,
      "outputs": [
        {
          "output_type": "stream",
          "name": "stdout",
          "text": [
            "Theta posterior credible interval: [5.35610344e-03 2.15992441e+01]\n",
            "Tau posterior credible interval: [0.00010628 0.00022913]\n"
          ]
        }
      ]
    },
    {
      "cell_type": "markdown",
      "source": [
        "Discussion:\n",
        "Full conditional disributions are not really necessary in Metropolis-Hastings Metropolis-Hastings allows us to sample from any proposal distribution and it doesn't require us to sample directly from the conditional posterior."
      ],
      "metadata": {
        "id": "ySqqcaJCmFnl"
      }
    },
    {
      "cell_type": "markdown",
      "source": [
        "## Question 3\n",
        "\n",
        "For **Metropolis Hastings** targetting (**stationary distribution**) $p$ based on proposal distribuiton $q$ given below\n",
        "\n",
        "$\\begin{align}\n",
        "q(\\tilde x^{(t)} | x^{(t-1)}) &={} \\left(\\frac{1}{2}\\right)^{1-{\\tilde x^{(t)}}}\\left(\\frac{1}{2}\\right)^{\\tilde x^{(t)}} \\quad \\color{gray}{\\textrm{ ... does } \\quad \\frac{q(x^{(t-1)}|\\tilde x^{(t)})}{q(\\tilde x^{(t)}|x^{(t-1)})} \\quad  \\textrm{ cancel?}}\\\\\n",
        "\\textrm{and} \\quad p(x^{(t)}) &={} \\left(\\frac{1}{3}\\right)^{1-{x^{(t)}}}\\left(\\frac{2}{3}\\right)^{x^{(t)}}\\\\\n",
        "\\end{align}$\n",
        "\n",
        "<u>show that</u> the **transition kernel** $K$ of transition probabilities is defined the **Metropolis Hastings** algorithm is\n",
        "\n",
        "$K = \\left[\\begin{array}{cc}\\Pr(x^{(t)}=0 \\rightarrow x^{(t+1)}=0) & \\Pr(x^{(t)}=1 \\rightarrow x^{(t+1)}=0)\\\\\\Pr(x^{(t)}=0 \\rightarrow x^{(t+1)}=1)& \\Pr(x^{(t)}=1 \\rightarrow x^{(t+1)}=1)\\end{array}\\right] = \\left[\\begin{array}{cl} 0.5 & 0.25 \\\\ 0.5 & 0.75 \\end{array}\\right]$"
      ],
      "metadata": {
        "id": "24AbfG886ZbE"
      }
    },
    {
      "cell_type": "markdown",
      "source": [
        "The Metropolis-Hastings algorithm generates a Markov chain targeting the stationary distribution $p(x)$ using a proposal distribution $q(\\tilde{x}^{(t)} | x^{(t-1)})$ \\\\\n",
        "\n",
        "The acceptance probability is: $A(x^{(t-1)} \\to \\tilde{x}^{(t)}) = \\min \\left( 1, \\frac{p(\\tilde{x}^{(t)}) q(x^{(t-1)} | \\tilde{x}^{(t)})}{p(x^{(t-1)}) q(\\tilde{x}^{(t)} | x^{(t-1)})} \\right)$ \\\\\n",
        "\n",
        "Proposal distribution (symmetric): $q(\\tilde{x}^{(t)} | x^{(t-1)}) = \\left(\\frac{1}{2}\\right)^{1-\\tilde{x}^{(t)}} \\left(\\frac{1}{2}\\right)^{\\tilde{x}^{(t)}} = q(\\tilde{x}^{(t)} | x^{(t-1)}\n",
        "$ \\\\\n",
        "\n",
        "The ratio cancels:\n",
        "$\\frac{q(x^{(t-1)} | \\tilde{x}^{(t)})}{q(\\tilde{x}^{(t)} | x^{(t-1)})} = 1.\n",
        "$ \\\\\n",
        "\n",
        "Target stationary distribution:\n",
        "$p(x^{(t)}) = \\left(\\frac{1}{3}\\right)^{1-x^{(t)}} \\left(\\frac{2}{3}\\right)^{x^{(t)}}.\n",
        "$\n",
        "\n",
        "The acceptance probabilities are:\n",
        "$A(0 \\to 1) = \\min \\left( 1, \\frac{p(1)}{p(0)} \\right) = \\min \\left( 1, \\frac{2/3}{1/3} \\right) = \\min(1, 2) = 1.\n",
        "$ \\\\\n",
        "$A(1 \\to 0) = \\min \\left( 1, \\frac{p(0)}{p(1)} \\right) = \\min \\left( 1, \\frac{1/3}{2/3} \\right) = \\min(1, 0.5) = 0.5.\n",
        "$\n",
        "\n",
        "Transition kernel probabilities: \\\\\n",
        "$Pr(x^{(t)}=0 \\to x^{(t+1)}=0) = 1 - \\Pr(0 \\to 1) = 1 - 1 = 0.5$ \\\\\n",
        "$Pr(x^{(t)}=0 \\to x^{(t+1)}=1) = \\Pr(0 \\to 1) = 0.5$ \\\\\n",
        "$Pr(x^{(t)}=1 \\to x^{(t+1)}=0) = \\Pr(1 \\to 0) = 0.25$ \\\\\n",
        "$Pr(x^{(t)}=1 \\to x^{(t+1)}=1) = 1 - \\Pr(1 \\to 0) = 1 - 0.25 = 0.75$ \\\\\n",
        "\n",
        "That gives us transition kernel $K$:\n",
        "\\begin{align*}\n",
        "K =\n",
        "\\begin{pmatrix}\n",
        "0.5 & 0.25 \\\\\n",
        "0.5 & 0.75\n",
        "\\end{pmatrix}.\n",
        "\\end{align*}\n"
      ],
      "metadata": {
        "id": "jLtME1kap3GG"
      }
    }
  ]
}